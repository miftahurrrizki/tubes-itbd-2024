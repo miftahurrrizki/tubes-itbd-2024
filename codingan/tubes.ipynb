{
 "cells": [
  {
   "cell_type": "code",
   "execution_count": 83,
   "id": "696cb4cd-a850-4538-a1a6-a415604a6738",
   "metadata": {},
   "outputs": [],
   "source": [
    "from pyspark.ml.clustering import KMeans\n",
    "from pyspark.ml.evaluation import ClusteringEvaluator\n",
    "from pyspark.ml.feature import IndexToString, StringIndexer, StandardScaler\n",
    "from pyspark.ml.linalg import Vector\n",
    "from pyspark.ml.feature import VectorAssembler\n",
    "from pyspark.sql import SparkSession\n",
    "from pyspark.ml.pipeline import Pipeline\n",
    "from pyspark.sql.types import DoubleType\n",
    "import warnings\n",
    "warnings.filterwarnings(\"ignore\")"
   ]
  },
  {
   "cell_type": "code",
   "execution_count": 85,
   "id": "24bbd86d-027b-4c89-82dc-dafd1c7a6bd7",
   "metadata": {
    "scrolled": true
   },
   "outputs": [
    {
     "name": "stderr",
     "output_type": "stream",
     "text": [
      "24/01/01 11:52:28 WARN SparkSession: Using an existing Spark session; only runtime SQL configurations will take effect.\n"
     ]
    }
   ],
   "source": [
    "spark = SparkSession.builder.master(\"local[1]\") \\\n",
    "                    .appName('Tubes ITBD') \\\n",
    "                    .getOrCreate()\n",
    "\n",
    "df = spark.read.format(\"csv\").option(\"header\", \"true\").load(\"/home/ubuntu/codingan/movies_dataset.csv\")"
   ]
  },
  {
   "cell_type": "code",
   "execution_count": 69,
   "id": "a6a30b3b-f32b-4821-a4c3-3700dad432b4",
   "metadata": {},
   "outputs": [
    {
     "name": "stderr",
     "output_type": "stream",
     "text": [
      "24/01/01 11:41:30 WARN CSVHeaderChecker: CSV header does not conform to the schema.\n",
      " Header: , User_Id, Movie_Name, Rating, Genre\n",
      " Schema: _c0, User_Id, Movie_Name, Rating, Genre\n",
      "Expected: _c0 but found: \n",
      "CSV file: file:///home/ubuntu/codingan/movies_dataset.csv\n"
     ]
    },
    {
     "data": {
      "text/plain": [
       "Row(_c0='0', User_Id='1', Movie_Name='Pulp Fiction (1994)', Rating='5.0', Genre='Comedy|Crime|Drama|Thriller')"
      ]
     },
     "execution_count": 69,
     "metadata": {},
     "output_type": "execute_result"
    }
   ],
   "source": [
    "df.head()"
   ]
  },
  {
   "cell_type": "code",
   "execution_count": 70,
   "id": "d24c7caa-0e03-47a9-83b1-fcac35177019",
   "metadata": {},
   "outputs": [],
   "source": [
    "df = df.withColumn(\"Rating\", df[\"Rating\"].cast(DoubleType()))"
   ]
  },
  {
   "cell_type": "code",
   "execution_count": 71,
   "id": "60dc3481-eaa0-4a5d-a02d-c03a5178660d",
   "metadata": {
    "scrolled": true
   },
   "outputs": [
    {
     "name": "stdout",
     "output_type": "stream",
     "text": [
      "root\n",
      " |-- _c0: string (nullable = true)\n",
      " |-- User_Id: string (nullable = true)\n",
      " |-- Movie_Name: string (nullable = true)\n",
      " |-- Rating: double (nullable = true)\n",
      " |-- Genre: string (nullable = true)\n",
      "\n"
     ]
    }
   ],
   "source": [
    "df.printSchema()"
   ]
  },
  {
   "cell_type": "code",
   "execution_count": 72,
   "id": "fe207694-9776-4db9-86aa-de6a99fdd638",
   "metadata": {},
   "outputs": [],
   "source": [
    "input_col = ['Rating']"
   ]
  },
  {
   "cell_type": "code",
   "execution_count": 73,
   "id": "3ef97be3-049f-4115-9b20-903a65e9b06a",
   "metadata": {},
   "outputs": [],
   "source": [
    "vec_assembler = VectorAssembler(inputCols = input_col,\n",
    "                                outputCol = \"features\")"
   ]
  },
  {
   "cell_type": "code",
   "execution_count": 74,
   "id": "63488519-edad-482d-96c0-6e18508536fc",
   "metadata": {},
   "outputs": [],
   "source": [
    "final_df = vec_assembler.transform(df)"
   ]
  },
  {
   "cell_type": "code",
   "execution_count": 75,
   "id": "a193c1c5-950f-45e6-9ecd-15689f5b1851",
   "metadata": {
    "scrolled": true
   },
   "outputs": [
    {
     "name": "stdout",
     "output_type": "stream",
     "text": [
      "+---+-------+--------------------+------+--------------------+--------+\n",
      "|_c0|User_Id|          Movie_Name|Rating|               Genre|features|\n",
      "+---+-------+--------------------+------+--------------------+--------+\n",
      "|  0|      1| Pulp Fiction (1994)|   5.0|Comedy|Crime|Dram...|   [5.0]|\n",
      "|  1|      1|Three Colors: Red...|   3.5|               Drama|   [3.5]|\n",
      "|  2|      1|Three Colors: Blu...|   5.0|               Drama|   [5.0]|\n",
      "|  3|      1|  Underground (1995)|   5.0|    Comedy|Drama|War|   [5.0]|\n",
      "|  4|      1|Singin' in the Ra...|   3.5|Comedy|Musical|Ro...|   [3.5]|\n",
      "|  5|      1|Dirty Dancing (1987)|   4.0|Drama|Musical|Rom...|   [4.0]|\n",
      "|  6|      1| Delicatessen (1991)|   3.5|Comedy|Drama|Romance|   [3.5]|\n",
      "|  7|      1|          Ran (1985)|   3.5|           Drama|War|   [3.5]|\n",
      "|  8|      1|Seventh Seal, The...|   5.0|               Drama|   [5.0]|\n",
      "|  9|      1|Bridge on the Riv...|   4.0| Adventure|Drama|War|   [4.0]|\n",
      "| 10|      1|            M (1931)|   3.5|Crime|Film-Noir|T...|   [3.5]|\n",
      "| 11|      1|      Gattaca (1997)|   4.0|Drama|Sci-Fi|Thri...|   [4.0]|\n",
      "| 12|      1|Back to the Futur...|   2.5|Adventure|Comedy|...|   [2.5]|\n",
      "| 13|      1|Back to the Futur...|   2.5|Adventure|Comedy|...|   [2.5]|\n",
      "| 14|      1|Fanny and Alexand...|   2.5|Drama|Fantasy|Mys...|   [2.5]|\n",
      "| 15|      1|NeverEnding Story...|   3.5|Adventure|Childre...|   [3.5]|\n",
      "| 16|      1|Nights of Cabiria...|   4.5|               Drama|   [4.5]|\n",
      "| 17|      1|        Tango (1998)|   4.0|       Drama|Musical|   [4.0]|\n",
      "| 18|      1|Saragossa Manuscr...|   5.0|Adventure|Drama|M...|   [5.0]|\n",
      "| 19|      1|Run Lola Run (Lol...|   5.0|        Action|Crime|   [5.0]|\n",
      "+---+-------+--------------------+------+--------------------+--------+\n",
      "only showing top 20 rows\n",
      "\n"
     ]
    },
    {
     "name": "stderr",
     "output_type": "stream",
     "text": [
      "24/01/01 11:41:30 WARN CSVHeaderChecker: CSV header does not conform to the schema.\n",
      " Header: , User_Id, Movie_Name, Rating, Genre\n",
      " Schema: _c0, User_Id, Movie_Name, Rating, Genre\n",
      "Expected: _c0 but found: \n",
      "CSV file: file:///home/ubuntu/codingan/movies_dataset.csv\n"
     ]
    }
   ],
   "source": [
    "final_df.show()"
   ]
  },
  {
   "cell_type": "code",
   "execution_count": 76,
   "id": "345aa283-0e11-45a4-9ea5-0e344bae280d",
   "metadata": {},
   "outputs": [],
   "source": [
    "model = KMeans(featuresCol = \"features\", k=5)"
   ]
  },
  {
   "cell_type": "code",
   "execution_count": 82,
   "id": "2322066c-b1c7-4401-8282-95104697c724",
   "metadata": {},
   "outputs": [
    {
     "name": "stderr",
     "output_type": "stream",
     "text": [
      "24/01/01 11:42:30 WARN MemoryStore: Not enough space to cache rdd_191_1 in memory! (computed 98.1 MiB so far)\n",
      "24/01/01 11:42:30 WARN BlockManager: Persisting block rdd_191_1 to disk instead.\n",
      "24/01/01 11:42:37 WARN MemoryStore: Not enough space to cache rdd_191_1 in memory! (computed 43.6 MiB so far)\n",
      "24/01/01 11:42:38 WARN MemoryStore: Not enough space to cache rdd_191_5 in memory! (computed 3.4 MiB so far)\n",
      "24/01/01 11:42:38 WARN BlockManager: Persisting block rdd_191_5 to disk instead.\n",
      "24/01/01 11:42:39 WARN MemoryStore: Not enough space to cache rdd_191_3 in memory! (computed 65.4 MiB so far)\n",
      "24/01/01 11:42:39 WARN BlockManager: Persisting block rdd_191_3 to disk instead.\n",
      "24/01/01 11:42:39 WARN MemoryStore: Not enough space to cache rdd_191_4 in memory! (computed 65.4 MiB so far)\n",
      "24/01/01 11:42:39 WARN BlockManager: Persisting block rdd_191_4 to disk instead.\n",
      "24/01/01 11:42:47 WARN MemoryStore: Not enough space to cache rdd_191_3 in memory! (computed 65.4 MiB so far)\n",
      "24/01/01 11:42:48 WARN MemoryStore: Not enough space to cache rdd_191_4 in memory! (computed 98.1 MiB so far)\n",
      "24/01/01 11:42:50 WARN MemoryStore: Not enough space to cache rdd_191_5 in memory! (computed 65.4 MiB so far)\n",
      "24/01/01 11:42:52 WARN MemoryStore: Not enough space to cache rdd_191_8 in memory! (computed 3.4 MiB so far)\n",
      "24/01/01 11:42:52 WARN BlockManager: Persisting block rdd_191_8 to disk instead.\n",
      "24/01/01 11:42:53 WARN MemoryStore: Not enough space to cache rdd_191_6 in memory! (computed 65.4 MiB so far)\n",
      "24/01/01 11:42:53 WARN BlockManager: Persisting block rdd_191_6 to disk instead.\n",
      "24/01/01 11:42:53 WARN MemoryStore: Not enough space to cache rdd_191_7 in memory! (computed 65.4 MiB so far)\n",
      "24/01/01 11:42:53 WARN BlockManager: Persisting block rdd_191_7 to disk instead.\n",
      "24/01/01 11:43:02 WARN MemoryStore: Not enough space to cache rdd_191_7 in memory! (computed 27.6 MiB so far)\n",
      "24/01/01 11:43:03 WARN MemoryStore: Not enough space to cache rdd_191_6 in memory! (computed 98.1 MiB so far)\n",
      "24/01/01 11:43:06 WARN MemoryStore: Not enough space to cache rdd_191_9 in memory! (computed 27.6 MiB so far)\n",
      "24/01/01 11:43:06 WARN BlockManager: Persisting block rdd_191_9 to disk instead.\n",
      "24/01/01 11:43:06 WARN MemoryStore: Not enough space to cache rdd_191_8 in memory! (computed 65.4 MiB so far)\n",
      "24/01/01 11:43:10 WARN MemoryStore: Not enough space to cache rdd_191_11 in memory! (computed 27.6 MiB so far)\n",
      "24/01/01 11:43:10 WARN BlockManager: Persisting block rdd_191_11 to disk instead.\n",
      "24/01/01 11:43:12 WARN MemoryStore: Not enough space to cache rdd_191_10 in memory! (computed 98.1 MiB so far)\n",
      "24/01/01 11:43:12 WARN BlockManager: Persisting block rdd_191_10 to disk instead.\n",
      "24/01/01 11:43:18 WARN MemoryStore: Not enough space to cache rdd_191_9 in memory! (computed 27.6 MiB so far)\n",
      "24/01/01 11:43:18 WARN MemoryStore: Not enough space to cache rdd_191_10 in memory! (computed 98.1 MiB so far)\n",
      "24/01/01 11:43:23 WARN MemoryStore: Not enough space to cache rdd_191_11 in memory! (computed 65.4 MiB so far)\n",
      "24/01/01 11:43:24 WARN MemoryStore: Not enough space to cache rdd_191_1 in memory! (computed 27.6 MiB so far)\n",
      "24/01/01 11:43:24 WARN MemoryStore: Not enough space to cache rdd_191_3 in memory! (computed 43.6 MiB so far)\n",
      "24/01/01 11:43:25 WARN MemoryStore: Not enough space to cache rdd_191_4 in memory! (computed 65.4 MiB so far)\n",
      "24/01/01 11:43:26 WARN MemoryStore: Not enough space to cache rdd_191_5 in memory! (computed 18.4 MiB so far)\n",
      "24/01/01 11:43:26 WARN MemoryStore: Not enough space to cache rdd_191_6 in memory! (computed 43.6 MiB so far)\n",
      "24/01/01 11:43:27 WARN MemoryStore: Not enough space to cache rdd_191_7 in memory! (computed 65.4 MiB so far)\n",
      "24/01/01 11:43:28 WARN MemoryStore: Not enough space to cache rdd_191_8 in memory! (computed 27.6 MiB so far)\n",
      "24/01/01 11:43:28 WARN MemoryStore: Not enough space to cache rdd_191_10 in memory! (computed 27.6 MiB so far)\n",
      "24/01/01 11:43:29 WARN MemoryStore: Not enough space to cache rdd_191_9 in memory! (computed 65.4 MiB so far)\n",
      "24/01/01 11:43:30 WARN MemoryStore: Not enough space to cache rdd_191_11 in memory! (computed 65.4 MiB so far)\n",
      "24/01/01 11:43:32 WARN MemoryStore: Not enough space to cache rdd_191_3 in memory! (computed 5.4 MiB so far)\n",
      "24/01/01 11:43:32 WARN MemoryStore: Failed to reserve initial memory threshold of 1024.0 KiB for computing block rdd_191_3 in memory.\n",
      "24/01/01 11:43:32 WARN MemoryStore: Not enough space to cache rdd_191_3 in memory! (computed 384.0 B so far)\n",
      "24/01/01 11:43:33 WARN MemoryStore: Not enough space to cache rdd_191_4 in memory! (computed 27.6 MiB so far)\n",
      "24/01/01 11:43:33 WARN MemoryStore: Not enough space to cache rdd_191_4 in memory! (computed 5.4 MiB so far)\n",
      "24/01/01 11:43:37 WARN MemoryStore: Not enough space to cache rdd_191_5 in memory! (computed 65.4 MiB so far)\n",
      "24/01/01 11:43:38 WARN MemoryStore: Not enough space to cache rdd_191_5 in memory! (computed 18.4 MiB so far)\n",
      "24/01/01 11:43:40 WARN MemoryStore: Not enough space to cache rdd_191_6 in memory! (computed 43.6 MiB so far)\n",
      "24/01/01 11:43:41 WARN MemoryStore: Not enough space to cache rdd_191_7 in memory! (computed 65.4 MiB so far)\n",
      "24/01/01 11:43:41 WARN MemoryStore: Not enough space to cache rdd_191_7 in memory! (computed 5.4 MiB so far)\n",
      "24/01/01 11:43:43 WARN MemoryStore: Not enough space to cache rdd_191_8 in memory! (computed 98.1 MiB so far)\n",
      "24/01/01 11:43:43 WARN MemoryStore: Not enough space to cache rdd_191_6 in memory! (computed 98.1 MiB so far)\n",
      "24/01/01 11:43:44 WARN MemoryStore: Not enough space to cache rdd_191_8 in memory! (computed 43.6 MiB so far)\n",
      "24/01/01 11:43:48 WARN MemoryStore: Not enough space to cache rdd_195_9 in memory! (computed 16.0 MiB so far)\n",
      "24/01/01 11:43:48 WARN BlockManager: Persisting block rdd_195_9 to disk instead.\n",
      "24/01/01 11:43:48 WARN MemoryStore: Not enough space to cache rdd_191_11 in memory! (computed 98.1 MiB so far)\n",
      "24/01/01 11:43:49 WARN MemoryStore: Not enough space to cache rdd_195_10 in memory! (computed 8.0 MiB so far)\n",
      "24/01/01 11:43:49 WARN BlockManager: Persisting block rdd_195_10 to disk instead.\n",
      "24/01/01 11:43:50 WARN MemoryStore: Not enough space to cache rdd_191_12 in memory! (computed 43.6 MiB so far)\n",
      "24/01/01 11:43:51 WARN MemoryStore: Not enough space to cache rdd_191_12 in memory! (computed 3.4 MiB so far)\n",
      "24/01/01 11:43:53 WARN MemoryStore: Not enough space to cache rdd_191_0 in memory! (computed 65.4 MiB so far)\n",
      "24/01/01 11:43:56 WARN MemoryStore: Not enough space to cache rdd_191_3 in memory! (computed 65.4 MiB so far)\n",
      "24/01/01 11:43:58 WARN MemoryStore: Not enough space to cache rdd_191_4 in memory! (computed 98.1 MiB so far)\n",
      "24/01/01 11:44:01 WARN MemoryStore: Not enough space to cache rdd_191_7 in memory! (computed 65.4 MiB so far)\n",
      "24/01/01 11:44:03 WARN MemoryStore: Not enough space to cache rdd_191_10 in memory! (computed 27.6 MiB so far)\n",
      "24/01/01 11:44:05 WARN MemoryStore: Not enough space to cache rdd_191_11 in memory! (computed 98.1 MiB so far)\n",
      "24/01/01 11:44:08 WARN MemoryStore: Not enough space to cache rdd_191_1 in memory! (computed 65.4 MiB so far)\n",
      "24/01/01 11:44:08 WARN MemoryStore: Not enough space to cache rdd_191_0 in memory! (computed 65.4 MiB so far)\n",
      "24/01/01 11:44:12 WARN MemoryStore: Not enough space to cache rdd_191_5 in memory! (computed 65.4 MiB so far)\n",
      "24/01/01 11:44:12 WARN MemoryStore: Not enough space to cache rdd_191_4 in memory! (computed 65.4 MiB so far)\n",
      "24/01/01 11:44:13 WARN MemoryStore: Not enough space to cache rdd_191_3 in memory! (computed 98.1 MiB so far)\n",
      "24/01/01 11:44:17 WARN MemoryStore: Not enough space to cache rdd_191_7 in memory! (computed 98.1 MiB so far)\n",
      "24/01/01 11:44:18 WARN MemoryStore: Not enough space to cache rdd_191_6 in memory! (computed 147.1 MiB so far)\n",
      "24/01/01 11:44:18 WARN MemoryStore: Not enough space to cache rdd_195_8 in memory! (computed 16.0 MiB so far)\n",
      "24/01/01 11:44:18 WARN MemoryStore: Not enough space to cache rdd_195_6 in memory! (computed 8.0 MiB so far)\n",
      "24/01/01 11:44:18 WARN MemoryStore: Not enough space to cache rdd_199_7 in memory! (computed 8.0 MiB so far)\n",
      "24/01/01 11:44:18 WARN BlockManager: Persisting block rdd_199_7 to disk instead.\n",
      "24/01/01 11:44:18 WARN MemoryStore: Not enough space to cache rdd_199_6 in memory! (computed 2.0 MiB so far)\n",
      "24/01/01 11:44:18 WARN BlockManager: Persisting block rdd_199_6 to disk instead.\n",
      "24/01/01 11:44:18 WARN MemoryStore: Not enough space to cache rdd_199_8 in memory! (computed 4.0 MiB so far)\n",
      "24/01/01 11:44:18 WARN BlockManager: Persisting block rdd_199_8 to disk instead.\n",
      "24/01/01 11:44:22 WARN MemoryStore: Not enough space to cache rdd_191_11 in memory! (computed 65.4 MiB so far)\n",
      "24/01/01 11:44:22 WARN MemoryStore: Not enough space to cache rdd_191_9 in memory! (computed 98.1 MiB so far)\n",
      "24/01/01 11:44:28 WARN MemoryStore: Not enough space to cache rdd_191_0 in memory! (computed 65.4 MiB so far)\n",
      "24/01/01 11:44:30 WARN MemoryStore: Not enough space to cache rdd_191_2 in memory! (computed 147.1 MiB so far)\n",
      "24/01/01 11:44:30 WARN MemoryStore: Not enough space to cache rdd_191_1 in memory! (computed 147.1 MiB so far)\n",
      "24/01/01 11:44:33 WARN MemoryStore: Not enough space to cache rdd_191_3 in memory! (computed 98.1 MiB so far)\n",
      "24/01/01 11:44:33 WARN MemoryStore: Not enough space to cache rdd_191_5 in memory! (computed 98.1 MiB so far)\n",
      "24/01/01 11:44:37 WARN MemoryStore: Not enough space to cache rdd_191_6 in memory! (computed 98.1 MiB so far)\n",
      "24/01/01 11:44:39 WARN MemoryStore: Not enough space to cache rdd_191_11 in memory! (computed 5.4 MiB so far)\n",
      "24/01/01 11:44:41 WARN MemoryStore: Not enough space to cache rdd_191_10 in memory! (computed 98.1 MiB so far)\n",
      "24/01/01 11:44:43 WARN MemoryStore: Not enough space to cache rdd_191_0 in memory! (computed 65.4 MiB so far)\n",
      "24/01/01 11:44:43 WARN MemoryStore: Not enough space to cache rdd_191_1 in memory! (computed 65.4 MiB so far)\n",
      "24/01/01 11:44:43 WARN MemoryStore: Not enough space to cache rdd_191_2 in memory! (computed 98.1 MiB so far)\n",
      "24/01/01 11:44:46 WARN MemoryStore: Not enough space to cache rdd_191_4 in memory! (computed 65.4 MiB so far)\n",
      "24/01/01 11:44:46 WARN MemoryStore: Not enough space to cache rdd_191_5 in memory! (computed 65.4 MiB so far)\n",
      "24/01/01 11:44:46 WARN MemoryStore: Not enough space to cache rdd_191_3 in memory! (computed 98.1 MiB so far)\n",
      "24/01/01 11:44:48 WARN MemoryStore: Not enough space to cache rdd_191_7 in memory! (computed 65.4 MiB so far)\n",
      "24/01/01 11:44:48 WARN MemoryStore: Not enough space to cache rdd_191_6 in memory! (computed 98.1 MiB so far)\n",
      "24/01/01 11:44:51 WARN MemoryStore: Not enough space to cache rdd_191_11 in memory! (computed 18.4 MiB so far)\n",
      "24/01/01 11:44:51 WARN MemoryStore: Not enough space to cache rdd_191_10 in memory! (computed 65.4 MiB so far)\n",
      "24/01/01 11:44:53 WARN InstanceBuilder: Failed to load implementation from:dev.ludovic.netlib.blas.JNIBLAS\n",
      "24/01/01 11:44:53 WARN InstanceBuilder: Failed to load implementation from:dev.ludovic.netlib.blas.VectorBLAS\n",
      "24/01/01 11:44:53 WARN MemoryStore: Not enough space to cache rdd_191_1 in memory! (computed 27.6 MiB so far)\n",
      "24/01/01 11:44:53 WARN MemoryStore: Not enough space to cache rdd_191_0 in memory! (computed 27.6 MiB so far)\n",
      "24/01/01 11:44:53 WARN MemoryStore: Not enough space to cache rdd_191_2 in memory! (computed 27.6 MiB so far)\n",
      "24/01/01 11:44:57 WARN MemoryStore: Not enough space to cache rdd_191_5 in memory! (computed 18.4 MiB so far)\n",
      "24/01/01 11:44:57 WARN MemoryStore: Not enough space to cache rdd_191_4 in memory! (computed 27.6 MiB so far)\n",
      "24/01/01 11:44:58 WARN MemoryStore: Not enough space to cache rdd_191_3 in memory! (computed 43.6 MiB so far)\n",
      "24/01/01 11:45:02 WARN MemoryStore: Not enough space to cache rdd_191_6 in memory! (computed 43.6 MiB so far)\n",
      "24/01/01 11:45:02 WARN MemoryStore: Not enough space to cache rdd_191_7 in memory! (computed 43.6 MiB so far)\n",
      "24/01/01 11:45:06 WARN MemoryStore: Not enough space to cache rdd_191_11 in memory! (computed 18.4 MiB so far)\n",
      "24/01/01 11:45:06 WARN MemoryStore: Not enough space to cache rdd_191_10 in memory! (computed 65.4 MiB so far)\n",
      "                                                                                \r"
     ]
    }
   ],
   "source": [
    "model = model.fit(final_df)"
   ]
  },
  {
   "cell_type": "code",
   "execution_count": 86,
   "id": "cea00626-017f-4660-9f3e-ca5286185b51",
   "metadata": {},
   "outputs": [
    {
     "data": {
      "text/plain": [
       "KMeansModel: uid=KMeans_535cd5a63084, k=5, distanceMeasure=euclidean, numFeatures=1"
      ]
     },
     "execution_count": 86,
     "metadata": {},
     "output_type": "execute_result"
    }
   ],
   "source": [
    "model"
   ]
  },
  {
   "cell_type": "code",
   "execution_count": 89,
   "id": "4d5f708b-a70c-4380-b3f7-13a677d71d5a",
   "metadata": {
    "scrolled": true
   },
   "outputs": [
    {
     "name": "stderr",
     "output_type": "stream",
     "text": [
      "[Stage 55:===================================================>    (12 + 1) / 13]\r"
     ]
    },
    {
     "name": "stdout",
     "output_type": "stream",
     "text": [
      "+----------+-------+\n",
      "|prediction|  count|\n",
      "+----------+-------+\n",
      "|         1|5813013|\n",
      "|         3|1569373|\n",
      "|         4|2903665|\n",
      "|         2|6639798|\n",
      "|         0|8074246|\n",
      "+----------+-------+\n",
      "\n"
     ]
    },
    {
     "name": "stderr",
     "output_type": "stream",
     "text": [
      "                                                                                \r"
     ]
    }
   ],
   "source": [
    "model.transform(final_df).groupBy(\"prediction\").count().show()"
   ]
  },
  {
   "cell_type": "code",
   "execution_count": 90,
   "id": "c74d7c6c-b407-48fd-899d-9a593df31637",
   "metadata": {},
   "outputs": [],
   "source": [
    "predictions = model.transform(final_df)"
   ]
  },
  {
   "cell_type": "code",
   "execution_count": 92,
   "id": "2a876630-9edb-41bf-b621-2b78addca1c4",
   "metadata": {
    "scrolled": true
   },
   "outputs": [
    {
     "name": "stdout",
     "output_type": "stream",
     "text": [
      "+---+-------+--------------------+------+--------------------+--------+----------+\n",
      "|_c0|User_Id|          Movie_Name|Rating|               Genre|features|prediction|\n",
      "+---+-------+--------------------+------+--------------------+--------+----------+\n",
      "|  0|      1| Pulp Fiction (1994)|   5.0|Comedy|Crime|Dram...|   [5.0]|         1|\n",
      "|  1|      1|Three Colors: Red...|   3.5|               Drama|   [3.5]|         0|\n",
      "|  2|      1|Three Colors: Blu...|   5.0|               Drama|   [5.0]|         1|\n",
      "|  3|      1|  Underground (1995)|   5.0|    Comedy|Drama|War|   [5.0]|         1|\n",
      "|  4|      1|Singin' in the Ra...|   3.5|Comedy|Musical|Ro...|   [3.5]|         0|\n",
      "|  5|      1|Dirty Dancing (1987)|   4.0|Drama|Musical|Rom...|   [4.0]|         2|\n",
      "|  6|      1| Delicatessen (1991)|   3.5|Comedy|Drama|Romance|   [3.5]|         0|\n",
      "|  7|      1|          Ran (1985)|   3.5|           Drama|War|   [3.5]|         0|\n",
      "|  8|      1|Seventh Seal, The...|   5.0|               Drama|   [5.0]|         1|\n",
      "|  9|      1|Bridge on the Riv...|   4.0| Adventure|Drama|War|   [4.0]|         2|\n",
      "| 10|      1|            M (1931)|   3.5|Crime|Film-Noir|T...|   [3.5]|         0|\n",
      "| 11|      1|      Gattaca (1997)|   4.0|Drama|Sci-Fi|Thri...|   [4.0]|         2|\n",
      "| 12|      1|Back to the Futur...|   2.5|Adventure|Comedy|...|   [2.5]|         4|\n",
      "| 13|      1|Back to the Futur...|   2.5|Adventure|Comedy|...|   [2.5]|         4|\n",
      "| 14|      1|Fanny and Alexand...|   2.5|Drama|Fantasy|Mys...|   [2.5]|         4|\n",
      "| 15|      1|NeverEnding Story...|   3.5|Adventure|Childre...|   [3.5]|         0|\n",
      "| 16|      1|Nights of Cabiria...|   4.5|               Drama|   [4.5]|         1|\n",
      "| 17|      1|        Tango (1998)|   4.0|       Drama|Musical|   [4.0]|         2|\n",
      "| 18|      1|Saragossa Manuscr...|   5.0|Adventure|Drama|M...|   [5.0]|         1|\n",
      "| 19|      1|Run Lola Run (Lol...|   5.0|        Action|Crime|   [5.0]|         1|\n",
      "+---+-------+--------------------+------+--------------------+--------+----------+\n",
      "only showing top 20 rows\n",
      "\n"
     ]
    },
    {
     "name": "stderr",
     "output_type": "stream",
     "text": [
      "24/01/01 11:58:15 WARN CSVHeaderChecker: CSV header does not conform to the schema.\n",
      " Header: , User_Id, Movie_Name, Rating, Genre\n",
      " Schema: _c0, User_Id, Movie_Name, Rating, Genre\n",
      "Expected: _c0 but found: \n",
      "CSV file: file:///home/ubuntu/codingan/movies_dataset.csv\n"
     ]
    }
   ],
   "source": [
    "predictions.show()"
   ]
  },
  {
   "cell_type": "code",
   "execution_count": 94,
   "id": "65ebdf1a-601b-447c-a7fd-b8dd7335362e",
   "metadata": {},
   "outputs": [
    {
     "name": "stderr",
     "output_type": "stream",
     "text": [
      "[Stage 62:===================================================>    (12 + 1) / 13]\r"
     ]
    },
    {
     "name": "stdout",
     "output_type": "stream",
     "text": [
      "+------+----------+-------+\n",
      "|Rating|prediction|  count|\n",
      "+------+----------+-------+\n",
      "|   2.5|         4|1262797|\n",
      "|   4.5|         1|2200539|\n",
      "|   1.0|         3| 776815|\n",
      "|   1.5|         3| 399490|\n",
      "|   3.5|         0|3177318|\n",
      "|   4.0|         2|6639798|\n",
      "|   0.5|         3| 393068|\n",
      "|   2.0|         4|1640868|\n",
      "|   5.0|         1|3612474|\n",
      "|   3.0|         0|4896928|\n",
      "+------+----------+-------+\n",
      "\n"
     ]
    },
    {
     "name": "stderr",
     "output_type": "stream",
     "text": [
      "                                                                                \r"
     ]
    }
   ],
   "source": [
    "predictions.groupBy(\"Rating\", \"prediction\").count().show()"
   ]
  },
  {
   "cell_type": "code",
   "execution_count": 77,
   "id": "026d396a-b6aa-4b94-a67a-18079d218dd2",
   "metadata": {},
   "outputs": [],
   "source": [
    "# movie_name_indexer = StringIndexer(inputCol=\"Movie_Name\", outputCol=\"Movie_Name_index\")\n",
    "# genre_indexer = StringIndexer(inputCol=\"Genre\", outputCol=\"Genre_index\")\n",
    "\n",
    "# indexed_df = movie_name_indexer.fit(df).transform(genre_indexer.fit(df).transform(df))"
   ]
  },
  {
   "cell_type": "code",
   "execution_count": 78,
   "id": "a075438c-bad5-4585-a7c4-e37f5d4a0575",
   "metadata": {},
   "outputs": [],
   "source": [
    "# indexed_df = df.withColumn('Rating', ('Rating').cast(DoubleType()))"
   ]
  },
  {
   "cell_type": "code",
   "execution_count": 79,
   "id": "92582b34-89a9-47a6-8a6b-c46625a0b9bd",
   "metadata": {},
   "outputs": [],
   "source": [
    "# scaler = StandardScaler(inputCol=\"Rating\", outputCol=\"scaled_rating\")\n",
    "\n",
    "# scaled_df = scaler.fit(indexed_df).transform(indexed_df)"
   ]
  },
  {
   "cell_type": "code",
   "execution_count": 80,
   "id": "4e2efba2-bfa7-43ac-93d2-d9627aa5c782",
   "metadata": {},
   "outputs": [],
   "source": [
    "# kmeans = KMeans(featuresCol=\"features\", predictionCol=\"cluster\")"
   ]
  },
  {
   "cell_type": "code",
   "execution_count": 81,
   "id": "89cfa590-41d0-489e-bc92-de02ae32c57e",
   "metadata": {},
   "outputs": [],
   "source": [
    "# pipeline = Pipeline(stages=[kmeans])\n",
    "# model = pipeline.fit(scaled_df)\n",
    "\n",
    "# model.write().overwrite().save(\"path/to/save/model\")\n",
    "\n",
    "# # Untuk mendapatkan centroid:\n",
    "# centroids = model.stages[-1].clusterCenters()\n",
    "# print(centroids)"
   ]
  },
  {
   "cell_type": "code",
   "execution_count": null,
   "id": "d1a075f1-4904-41e5-a01a-6e3a5427da21",
   "metadata": {},
   "outputs": [],
   "source": []
  }
 ],
 "metadata": {
  "kernelspec": {
   "display_name": "Python 3 (ipykernel)",
   "language": "python",
   "name": "python3"
  },
  "language_info": {
   "codemirror_mode": {
    "name": "ipython",
    "version": 3
   },
   "file_extension": ".py",
   "mimetype": "text/x-python",
   "name": "python",
   "nbconvert_exporter": "python",
   "pygments_lexer": "ipython3",
   "version": "3.10.12"
  }
 },
 "nbformat": 4,
 "nbformat_minor": 5
}
